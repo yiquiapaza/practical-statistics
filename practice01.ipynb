{
 "cells": [
  {
   "cell_type": "code",
   "execution_count": 15,
   "metadata": {
    "vscode": {
     "languageId": "r"
    }
   },
   "outputs": [],
   "source": [
    "state <- c('Alabama', 'Alaska', 'Arizona', 'Arkansas', 'Califormia', 'Colorado', 'Connecticut', 'Delaware')"
   ]
  },
  {
   "cell_type": "code",
   "execution_count": 14,
   "metadata": {
    "vscode": {
     "languageId": "r"
    }
   },
   "outputs": [],
   "source": [
    "population <- c(4779736, 710231, 6392017, 2915918, 37253956, 5029796, 3574097, 897934)"
   ]
  },
  {
   "cell_type": "code",
   "execution_count": 16,
   "metadata": {
    "vscode": {
     "languageId": "r"
    }
   },
   "outputs": [],
   "source": [
    "murder_rate <- c(5.7, 5.6, 4.7, 5.6, 4.4, 2.8, 2.4, 5.8 )"
   ]
  },
  {
   "cell_type": "code",
   "execution_count": 17,
   "metadata": {
    "vscode": {
     "languageId": "r"
    }
   },
   "outputs": [],
   "source": [
    "abbreviation <- c('AL', 'AK', 'AZ', 'AR', 'CA', 'CO', 'CT', 'DE')"
   ]
  },
  {
   "cell_type": "code",
   "execution_count": 18,
   "metadata": {
    "vscode": {
     "languageId": "r"
    }
   },
   "outputs": [],
   "source": [
    "df <- data.frame(state, population, murder_rate, abbreviation)"
   ]
  },
  {
   "cell_type": "code",
   "execution_count": 19,
   "metadata": {
    "vscode": {
     "languageId": "r"
    }
   },
   "outputs": [
    {
     "data": {
      "text/html": [
       "<table class=\"dataframe\">\n",
       "<caption>A data.frame: 8 × 4</caption>\n",
       "<thead>\n",
       "\t<tr><th scope=col>state</th><th scope=col>population</th><th scope=col>murder_rate</th><th scope=col>abbreviation</th></tr>\n",
       "\t<tr><th scope=col>&lt;chr&gt;</th><th scope=col>&lt;dbl&gt;</th><th scope=col>&lt;dbl&gt;</th><th scope=col>&lt;chr&gt;</th></tr>\n",
       "</thead>\n",
       "<tbody>\n",
       "\t<tr><td>Alabama    </td><td> 4779736</td><td>5.7</td><td>AL</td></tr>\n",
       "\t<tr><td>Alaska     </td><td>  710231</td><td>5.6</td><td>AK</td></tr>\n",
       "\t<tr><td>Arizona    </td><td> 6392017</td><td>4.7</td><td>AZ</td></tr>\n",
       "\t<tr><td>Arkansas   </td><td> 2915918</td><td>5.6</td><td>AR</td></tr>\n",
       "\t<tr><td>Califormia </td><td>37253956</td><td>4.4</td><td>CA</td></tr>\n",
       "\t<tr><td>Colorado   </td><td> 5029796</td><td>2.8</td><td>CO</td></tr>\n",
       "\t<tr><td>Connecticut</td><td> 3574097</td><td>2.4</td><td>CT</td></tr>\n",
       "\t<tr><td>Delaware   </td><td>  897934</td><td>5.8</td><td>DE</td></tr>\n",
       "</tbody>\n",
       "</table>\n"
      ],
      "text/latex": [
       "A data.frame: 8 × 4\n",
       "\\begin{tabular}{llll}\n",
       " state & population & murder\\_rate & abbreviation\\\\\n",
       " <chr> & <dbl> & <dbl> & <chr>\\\\\n",
       "\\hline\n",
       "\t Alabama     &  4779736 & 5.7 & AL\\\\\n",
       "\t Alaska      &   710231 & 5.6 & AK\\\\\n",
       "\t Arizona     &  6392017 & 4.7 & AZ\\\\\n",
       "\t Arkansas    &  2915918 & 5.6 & AR\\\\\n",
       "\t Califormia  & 37253956 & 4.4 & CA\\\\\n",
       "\t Colorado    &  5029796 & 2.8 & CO\\\\\n",
       "\t Connecticut &  3574097 & 2.4 & CT\\\\\n",
       "\t Delaware    &   897934 & 5.8 & DE\\\\\n",
       "\\end{tabular}\n"
      ],
      "text/markdown": [
       "\n",
       "A data.frame: 8 × 4\n",
       "\n",
       "| state &lt;chr&gt; | population &lt;dbl&gt; | murder_rate &lt;dbl&gt; | abbreviation &lt;chr&gt; |\n",
       "|---|---|---|---|\n",
       "| Alabama     |  4779736 | 5.7 | AL |\n",
       "| Alaska      |   710231 | 5.6 | AK |\n",
       "| Arizona     |  6392017 | 4.7 | AZ |\n",
       "| Arkansas    |  2915918 | 5.6 | AR |\n",
       "| Califormia  | 37253956 | 4.4 | CA |\n",
       "| Colorado    |  5029796 | 2.8 | CO |\n",
       "| Connecticut |  3574097 | 2.4 | CT |\n",
       "| Delaware    |   897934 | 5.8 | DE |\n",
       "\n"
      ],
      "text/plain": [
       "  state       population murder_rate abbreviation\n",
       "1 Alabama      4779736   5.7         AL          \n",
       "2 Alaska        710231   5.6         AK          \n",
       "3 Arizona      6392017   4.7         AZ          \n",
       "4 Arkansas     2915918   5.6         AR          \n",
       "5 Califormia  37253956   4.4         CA          \n",
       "6 Colorado     5029796   2.8         CO          \n",
       "7 Connecticut  3574097   2.4         CT          \n",
       "8 Delaware      897934   5.8         DE          "
      ]
     },
     "metadata": {},
     "output_type": "display_data"
    }
   ],
   "source": [
    "df"
   ]
  }
 ],
 "metadata": {
  "kernelspec": {
   "display_name": "R",
   "language": "R",
   "name": "ir"
  },
  "language_info": {
   "codemirror_mode": "r",
   "file_extension": ".r",
   "mimetype": "text/x-r-source",
   "name": "R",
   "pygments_lexer": "r",
   "version": "4.1.2"
  },
  "orig_nbformat": 4,
  "vscode": {
   "interpreter": {
    "hash": "916dbcbb3f70747c44a77c7bcd40155683ae19c65e1c03b4aa3499c5328201f1"
   }
  }
 },
 "nbformat": 4,
 "nbformat_minor": 2
}
